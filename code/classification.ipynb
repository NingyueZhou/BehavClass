{
 "cells": [
  {
   "cell_type": "markdown",
   "id": "b4941c89",
   "metadata": {},
   "source": [
    "# Behavior Classification using Explainable Active Learning Model"
   ]
  },
  {
   "cell_type": "markdown",
   "id": "d23534a3",
   "metadata": {},
   "source": [
    "## 1. Load Data"
   ]
  },
  {
   "cell_type": "code",
   "execution_count": null,
   "id": "9e9b589b",
   "metadata": {},
   "outputs": [],
   "source": []
  },
  {
   "cell_type": "code",
   "execution_count": null,
   "id": "326c03e7",
   "metadata": {},
   "outputs": [],
   "source": []
  },
  {
   "cell_type": "markdown",
   "id": "ab3291d5",
   "metadata": {},
   "source": [
    "## 2. Preprocessing using A-SOiD Pipeline"
   ]
  },
  {
   "cell_type": "markdown",
   "metadata": {},
   "source": [
    "### 2.1 Preprocessing parameters"
   ]
  },
  {
   "cell_type": "code",
   "execution_count": null,
   "id": "87635651",
   "metadata": {},
   "outputs": [],
   "source": [
    "FRAME_RATE = 30\n",
    "SAMPLE_RATE = 10\n",
    "MULTI_ANIMAL = False"
   ]
  },
  {
   "cell_type": "code",
   "execution_count": null,
   "id": "49f80d49",
   "metadata": {},
   "outputs": [],
   "source": []
  },
  {
   "cell_type": "markdown",
   "id": "93709a15",
   "metadata": {},
   "source": [
    "## 3."
   ]
  }
 ],
 "metadata": {
  "kernelspec": {
   "display_name": "base",
   "language": "python",
   "name": "python3"
  },
  "language_info": {
   "name": "python",
   "version": "3.12.7"
  }
 },
 "nbformat": 4,
 "nbformat_minor": 5
}
