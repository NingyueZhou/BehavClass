{
 "cells": [
  {
   "cell_type": "markdown",
   "id": "b4941c89",
   "metadata": {},
   "source": [
    "# Behavior Classification using Explainable Active Learning Model"
   ]
  },
  {
   "cell_type": "markdown",
   "id": "d23534a3",
   "metadata": {},
   "source": [
    "## 1. Load Data"
   ]
  },
  {
   "cell_type": "markdown",
   "id": "f0fbdb18",
   "metadata": {},
   "source": [
    "## 2. Preprocessing using A-SOiD Pipeline"
   ]
  },
  {
   "cell_type": "markdown",
   "id": "18a8b17a",
   "metadata": {},
   "source": []
  }
 ],
 "metadata": {
  "language_info": {
   "name": "python"
  }
 },
 "nbformat": 4,
 "nbformat_minor": 5
}
