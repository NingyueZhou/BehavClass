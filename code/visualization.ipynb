{
 "cells": [
  {
   "cell_type": "markdown",
   "id": "904ad184",
   "metadata": {},
   "source": [
    "# DeepLabCut Data Visualization"
   ]
  },
  {
   "cell_type": "markdown",
   "id": "1e986c77",
   "metadata": {},
   "source": [
    "## 1. Load Data"
   ]
  },
  {
   "cell_type": "markdown",
   "id": "537a0fcc",
   "metadata": {},
   "source": [
    "## 2. "
   ]
  }
 ],
 "metadata": {
  "language_info": {
   "name": "python"
  }
 },
 "nbformat": 4,
 "nbformat_minor": 5
}
